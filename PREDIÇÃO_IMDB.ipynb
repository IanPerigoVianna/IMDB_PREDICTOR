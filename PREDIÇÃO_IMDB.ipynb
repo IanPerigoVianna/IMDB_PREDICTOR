{
  "nbformat": 4,
  "nbformat_minor": 0,
  "metadata": {
    "colab": {
      "provenance": []
    },
    "kernelspec": {
      "name": "python3",
      "display_name": "Python 3"
    },
    "language_info": {
      "name": "python"
    }
  },
  "cells": [
    {
      "cell_type": "code",
      "source": [
        "import pandas as pd\n",
        "import cloudpickle as pickle\n",
        "\n",
        "# Carregar o scaler, o modelo, as colunas do conjunto de treinamento e os vencedores do Oscar\n",
        "with open('scaler.pkl', 'rb') as f:\n",
        "    scaler = pickle.load(f)\n",
        "\n",
        "with open('regressor.pkl', 'rb') as f:\n",
        "    regressor = pickle.load(f)\n",
        "\n",
        "with open('X_columns.pkl', 'rb') as f:\n",
        "    X_columns = pickle.load(f)\n",
        "\n",
        "with open('oscar_winners.pkl', 'rb') as f:\n",
        "    oscar_winner_names = pickle.load(f)\n",
        "\n",
        "# Carregar as funções serializadas\n",
        "with open('check_oscar_winners.pkl', 'rb') as f:\n",
        "    check_oscar_winners = pickle.load(f)\n",
        "\n",
        "with open('preprocess_input.pkl', 'rb') as f:\n",
        "    preprocess_input = pickle.load(f)\n",
        "###########################################################################################\n",
        "# Novo input teste oscar\n",
        "new_input = {\n",
        "    'Series_Title': 'The Shawshank Redemption',\n",
        " 'Released_Year': '1994',\n",
        " 'Certificate': 'A',\n",
        " 'Runtime': '142 min',\n",
        " 'Genre': 'Drama',\n",
        " 'Overview': 'Two imprisoned men bond over a number of years, finding solace and eventual redemption through acts of common decency.',\n",
        " 'Meta_score': 80.0,\n",
        " 'Director': 'Frank Darabont',\n",
        " 'Star1': 'Tim Robbins',\n",
        " 'Star2': 'Morgan Freeman',\n",
        " 'Star3': 'Bob Gunton',\n",
        " 'Star4': 'William Sadler',\n",
        " 'No_of_Votes': 2343110,\n",
        " 'Gross': '28,341,469'\n",
        "}\n",
        "\n",
        "# Preprocessar o novo input\n",
        "processed_input = preprocess_input(new_input, scaler, X_columns, oscar_winner_names)\n",
        "\n",
        "# Fazer a previsão\n",
        "prediction = regressor.predict(processed_input)\n",
        "print(f'Predicted IMDB Rating: {prediction[0]}')\n"
      ],
      "metadata": {
        "colab": {
          "base_uri": "https://localhost:8080/"
        },
        "id": "Hj5JIYw3gqLn",
        "outputId": "1d5fb619-99ac-4b8c-a348-2529a2a6ad8e"
      },
      "execution_count": 40,
      "outputs": [
        {
          "output_type": "stream",
          "name": "stdout",
          "text": [
            "Predicted IMDB Rating: 8.741280555725098\n"
          ]
        }
      ]
    },
    {
      "cell_type": "code",
      "source": [],
      "metadata": {
        "id": "zbCrrgesoe2W"
      },
      "execution_count": null,
      "outputs": []
    }
  ]
}